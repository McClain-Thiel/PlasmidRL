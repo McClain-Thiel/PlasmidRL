{
 "cells": [
  {
   "cell_type": "code",
   "execution_count": 1,
   "id": "e0ad4081",
   "metadata": {},
   "outputs": [],
   "source": [
    "import ray"
   ]
  },
  {
   "cell_type": "code",
   "execution_count": null,
   "id": "b019c7f0",
   "metadata": {},
   "outputs": [],
   "source": []
  },
  {
   "cell_type": "code",
   "execution_count": 2,
   "id": "b58e7ca2",
   "metadata": {},
   "outputs": [
    {
     "name": "stderr",
     "output_type": "stream",
     "text": [
      "2025-10-13 20:44:23,715\tINFO client_builder.py:242 -- Passing the following kwargs to ray.init() on the server: log_to_driver\n",
      "SIGTERM handler is not set because current thread is not the main thread.\n"
     ]
    },
    {
     "ename": "RuntimeError",
     "evalue": "Version mismatch: The cluster was started with:\n    Ray: 2.49.2\n    Python: 3.9.18\nThis process on Ray Client was started with:\n    Ray: 2.49.2\n    Python: 3.11.9\n",
     "output_type": "error",
     "traceback": [
      "\u001b[31m---------------------------------------------------------------------------\u001b[39m",
      "\u001b[31mRuntimeError\u001b[39m                              Traceback (most recent call last)",
      "\u001b[36mCell\u001b[39m\u001b[36m \u001b[39m\u001b[32mIn[2]\u001b[39m\u001b[32m, line 1\u001b[39m\n\u001b[32m----> \u001b[39m\u001b[32m1\u001b[39m \u001b[43mray\u001b[49m\u001b[43m.\u001b[49m\u001b[43minit\u001b[49m\u001b[43m(\u001b[49m\u001b[33;43m\"\u001b[39;49m\u001b[33;43mray://localhost:10001\u001b[39;49m\u001b[33;43m\"\u001b[39;49m\u001b[43m)\u001b[49m\n\u001b[32m      3\u001b[39m \u001b[38;5;129m@ray\u001b[39m.remote\n\u001b[32m      4\u001b[39m \u001b[38;5;28;01mdef\u001b[39;00m\u001b[38;5;250m \u001b[39m\u001b[34mdouble\u001b[39m(x): \n\u001b[32m      5\u001b[39m     \u001b[38;5;28;01mreturn\u001b[39;00m x * \u001b[32m2\u001b[39m\n",
      "\u001b[36mFile \u001b[39m\u001b[32m~/Projects/PhD/PlasmidRL/.venv/lib/python3.11/site-packages/ray/_private/client_mode_hook.py:104\u001b[39m, in \u001b[36mclient_mode_hook.<locals>.wrapper\u001b[39m\u001b[34m(*args, **kwargs)\u001b[39m\n\u001b[32m    102\u001b[39m     \u001b[38;5;28;01mif\u001b[39;00m func.\u001b[34m__name__\u001b[39m != \u001b[33m\"\u001b[39m\u001b[33minit\u001b[39m\u001b[33m\"\u001b[39m \u001b[38;5;129;01mor\u001b[39;00m is_client_mode_enabled_by_default:\n\u001b[32m    103\u001b[39m         \u001b[38;5;28;01mreturn\u001b[39;00m \u001b[38;5;28mgetattr\u001b[39m(ray, func.\u001b[34m__name__\u001b[39m)(*args, **kwargs)\n\u001b[32m--> \u001b[39m\u001b[32m104\u001b[39m \u001b[38;5;28;01mreturn\u001b[39;00m \u001b[43mfunc\u001b[49m\u001b[43m(\u001b[49m\u001b[43m*\u001b[49m\u001b[43margs\u001b[49m\u001b[43m,\u001b[49m\u001b[43m \u001b[49m\u001b[43m*\u001b[49m\u001b[43m*\u001b[49m\u001b[43mkwargs\u001b[49m\u001b[43m)\u001b[49m\n",
      "\u001b[36mFile \u001b[39m\u001b[32m~/Projects/PhD/PlasmidRL/.venv/lib/python3.11/site-packages/ray/_private/worker.py:1655\u001b[39m, in \u001b[36minit\u001b[39m\u001b[34m(address, num_cpus, num_gpus, resources, labels, object_store_memory, local_mode, ignore_reinit_error, include_dashboard, dashboard_host, dashboard_port, job_config, configure_logging, logging_level, logging_format, logging_config, log_to_driver, namespace, runtime_env, enable_resource_isolation, system_reserved_cpu, system_reserved_memory, **kwargs)\u001b[39m\n\u001b[32m   1653\u001b[39m passed_kwargs.update(kwargs)\n\u001b[32m   1654\u001b[39m builder._init_args(**passed_kwargs)\n\u001b[32m-> \u001b[39m\u001b[32m1655\u001b[39m ctx = \u001b[43mbuilder\u001b[49m\u001b[43m.\u001b[49m\u001b[43mconnect\u001b[49m\u001b[43m(\u001b[49m\u001b[43m)\u001b[49m\n\u001b[32m   1656\u001b[39m \u001b[38;5;28;01mfrom\u001b[39;00m\u001b[38;5;250m \u001b[39m\u001b[34;01mray\u001b[39;00m\u001b[34;01m.\u001b[39;00m\u001b[34;01m_common\u001b[39;00m\u001b[34;01m.\u001b[39;00m\u001b[34;01musage\u001b[39;00m\u001b[38;5;250m \u001b[39m\u001b[38;5;28;01mimport\u001b[39;00m usage_lib\n\u001b[32m   1658\u001b[39m \u001b[38;5;28;01mif\u001b[39;00m passed_kwargs.get(\u001b[33m\"\u001b[39m\u001b[33mallow_multiple\u001b[39m\u001b[33m\"\u001b[39m) \u001b[38;5;129;01mis\u001b[39;00m \u001b[38;5;28;01mTrue\u001b[39;00m:\n",
      "\u001b[36mFile \u001b[39m\u001b[32m~/Projects/PhD/PlasmidRL/.venv/lib/python3.11/site-packages/ray/client_builder.py:173\u001b[39m, in \u001b[36mClientBuilder.connect\u001b[39m\u001b[34m(self)\u001b[39m\n\u001b[32m    170\u001b[39m \u001b[38;5;28;01mif\u001b[39;00m \u001b[38;5;28mself\u001b[39m._allow_multiple_connections:\n\u001b[32m    171\u001b[39m     old_ray_cxt = ray.util.client.ray.set_context(\u001b[38;5;28;01mNone\u001b[39;00m)\n\u001b[32m--> \u001b[39m\u001b[32m173\u001b[39m client_info_dict = \u001b[43mray\u001b[49m\u001b[43m.\u001b[49m\u001b[43mutil\u001b[49m\u001b[43m.\u001b[49m\u001b[43mclient_connect\u001b[49m\u001b[43m.\u001b[49m\u001b[43mconnect\u001b[49m\u001b[43m(\u001b[49m\n\u001b[32m    174\u001b[39m \u001b[43m    \u001b[49m\u001b[38;5;28;43mself\u001b[39;49m\u001b[43m.\u001b[49m\u001b[43maddress\u001b[49m\u001b[43m,\u001b[49m\n\u001b[32m    175\u001b[39m \u001b[43m    \u001b[49m\u001b[43mjob_config\u001b[49m\u001b[43m=\u001b[49m\u001b[38;5;28;43mself\u001b[39;49m\u001b[43m.\u001b[49m\u001b[43m_job_config\u001b[49m\u001b[43m,\u001b[49m\n\u001b[32m    176\u001b[39m \u001b[43m    \u001b[49m\u001b[43m_credentials\u001b[49m\u001b[43m=\u001b[49m\u001b[38;5;28;43mself\u001b[39;49m\u001b[43m.\u001b[49m\u001b[43m_credentials\u001b[49m\u001b[43m,\u001b[49m\n\u001b[32m    177\u001b[39m \u001b[43m    \u001b[49m\u001b[43mray_init_kwargs\u001b[49m\u001b[43m=\u001b[49m\u001b[38;5;28;43mself\u001b[39;49m\u001b[43m.\u001b[49m\u001b[43m_remote_init_kwargs\u001b[49m\u001b[43m,\u001b[49m\n\u001b[32m    178\u001b[39m \u001b[43m    \u001b[49m\u001b[43mmetadata\u001b[49m\u001b[43m=\u001b[49m\u001b[38;5;28;43mself\u001b[39;49m\u001b[43m.\u001b[49m\u001b[43m_metadata\u001b[49m\u001b[43m,\u001b[49m\n\u001b[32m    179\u001b[39m \u001b[43m\u001b[49m\u001b[43m)\u001b[49m\n\u001b[32m    181\u001b[39m dashboard_url = ray.util.client.ray._get_dashboard_url()\n\u001b[32m    183\u001b[39m cxt = ClientContext(\n\u001b[32m    184\u001b[39m     dashboard_url=dashboard_url,\n\u001b[32m    185\u001b[39m     python_version=client_info_dict[\u001b[33m\"\u001b[39m\u001b[33mpython_version\u001b[39m\u001b[33m\"\u001b[39m],\n\u001b[32m   (...)\u001b[39m\u001b[32m    189\u001b[39m     _context_to_restore=ray.util.client.ray.get_context(),\n\u001b[32m    190\u001b[39m )\n",
      "\u001b[36mFile \u001b[39m\u001b[32m~/Projects/PhD/PlasmidRL/.venv/lib/python3.11/site-packages/ray/util/client_connect.py:55\u001b[39m, in \u001b[36mconnect\u001b[39m\u001b[34m(conn_str, secure, metadata, connection_retries, job_config, namespace, ignore_version, _credentials, ray_init_kwargs)\u001b[39m\n\u001b[32m     50\u001b[39m _explicitly_enable_client_mode()\n\u001b[32m     52\u001b[39m \u001b[38;5;66;03m# TODO(barakmich): https://github.com/ray-project/ray/issues/13274\u001b[39;00m\n\u001b[32m     53\u001b[39m \u001b[38;5;66;03m# for supporting things like cert_path, ca_path, etc and creating\u001b[39;00m\n\u001b[32m     54\u001b[39m \u001b[38;5;66;03m# the correct metadata\u001b[39;00m\n\u001b[32m---> \u001b[39m\u001b[32m55\u001b[39m conn = \u001b[43mray\u001b[49m\u001b[43m.\u001b[49m\u001b[43mconnect\u001b[49m\u001b[43m(\u001b[49m\n\u001b[32m     56\u001b[39m \u001b[43m    \u001b[49m\u001b[43mconn_str\u001b[49m\u001b[43m,\u001b[49m\n\u001b[32m     57\u001b[39m \u001b[43m    \u001b[49m\u001b[43mjob_config\u001b[49m\u001b[43m=\u001b[49m\u001b[43mjob_config\u001b[49m\u001b[43m,\u001b[49m\n\u001b[32m     58\u001b[39m \u001b[43m    \u001b[49m\u001b[43msecure\u001b[49m\u001b[43m=\u001b[49m\u001b[43msecure\u001b[49m\u001b[43m,\u001b[49m\n\u001b[32m     59\u001b[39m \u001b[43m    \u001b[49m\u001b[43mmetadata\u001b[49m\u001b[43m=\u001b[49m\u001b[43mmetadata\u001b[49m\u001b[43m,\u001b[49m\n\u001b[32m     60\u001b[39m \u001b[43m    \u001b[49m\u001b[43mconnection_retries\u001b[49m\u001b[43m=\u001b[49m\u001b[43mconnection_retries\u001b[49m\u001b[43m,\u001b[49m\n\u001b[32m     61\u001b[39m \u001b[43m    \u001b[49m\u001b[43mnamespace\u001b[49m\u001b[43m=\u001b[49m\u001b[43mnamespace\u001b[49m\u001b[43m,\u001b[49m\n\u001b[32m     62\u001b[39m \u001b[43m    \u001b[49m\u001b[43mignore_version\u001b[49m\u001b[43m=\u001b[49m\u001b[43mignore_version\u001b[49m\u001b[43m,\u001b[49m\n\u001b[32m     63\u001b[39m \u001b[43m    \u001b[49m\u001b[43m_credentials\u001b[49m\u001b[43m=\u001b[49m\u001b[43m_credentials\u001b[49m\u001b[43m,\u001b[49m\n\u001b[32m     64\u001b[39m \u001b[43m    \u001b[49m\u001b[43mray_init_kwargs\u001b[49m\u001b[43m=\u001b[49m\u001b[43mray_init_kwargs\u001b[49m\u001b[43m,\u001b[49m\n\u001b[32m     65\u001b[39m \u001b[43m\u001b[49m\u001b[43m)\u001b[49m\n\u001b[32m     66\u001b[39m \u001b[38;5;28;01mreturn\u001b[39;00m conn\n",
      "\u001b[36mFile \u001b[39m\u001b[32m~/Projects/PhD/PlasmidRL/.venv/lib/python3.11/site-packages/ray/util/client/__init__.py:233\u001b[39m, in \u001b[36mRayAPIStub.connect\u001b[39m\u001b[34m(self, *args, **kw_args)\u001b[39m\n\u001b[32m    231\u001b[39m \u001b[38;5;28;01mdef\u001b[39;00m\u001b[38;5;250m \u001b[39m\u001b[34mconnect\u001b[39m(\u001b[38;5;28mself\u001b[39m, *args, **kw_args):\n\u001b[32m    232\u001b[39m     \u001b[38;5;28mself\u001b[39m.get_context()._inside_client_test = \u001b[38;5;28mself\u001b[39m._inside_client_test\n\u001b[32m--> \u001b[39m\u001b[32m233\u001b[39m     conn = \u001b[38;5;28;43mself\u001b[39;49m\u001b[43m.\u001b[49m\u001b[43mget_context\u001b[49m\u001b[43m(\u001b[49m\u001b[43m)\u001b[49m\u001b[43m.\u001b[49m\u001b[43mconnect\u001b[49m\u001b[43m(\u001b[49m\u001b[43m*\u001b[49m\u001b[43margs\u001b[49m\u001b[43m,\u001b[49m\u001b[43m \u001b[49m\u001b[43m*\u001b[49m\u001b[43m*\u001b[49m\u001b[43mkw_args\u001b[49m\u001b[43m)\u001b[49m\n\u001b[32m    234\u001b[39m     \u001b[38;5;28;01mglobal\u001b[39;00m _lock, _all_contexts\n\u001b[32m    235\u001b[39m     \u001b[38;5;28;01mwith\u001b[39;00m _lock:\n",
      "\u001b[36mFile \u001b[39m\u001b[32m~/Projects/PhD/PlasmidRL/.venv/lib/python3.11/site-packages/ray/util/client/__init__.py:99\u001b[39m, in \u001b[36m_ClientContext.connect\u001b[39m\u001b[34m(self, conn_str, job_config, secure, metadata, connection_retries, namespace, ignore_version, _credentials, ray_init_kwargs)\u001b[39m\n\u001b[32m     97\u001b[39m \u001b[38;5;28mself\u001b[39m.client_worker._server_init(job_config, ray_init_kwargs)\n\u001b[32m     98\u001b[39m conn_info = \u001b[38;5;28mself\u001b[39m.client_worker.connection_info()\n\u001b[32m---> \u001b[39m\u001b[32m99\u001b[39m \u001b[38;5;28;43mself\u001b[39;49m\u001b[43m.\u001b[49m\u001b[43m_check_versions\u001b[49m\u001b[43m(\u001b[49m\u001b[43mconn_info\u001b[49m\u001b[43m,\u001b[49m\u001b[43m \u001b[49m\u001b[43mignore_version\u001b[49m\u001b[43m)\u001b[49m\n\u001b[32m    100\u001b[39m \u001b[38;5;28mself\u001b[39m._register_serializers()\n\u001b[32m    101\u001b[39m \u001b[38;5;28;01mreturn\u001b[39;00m conn_info\n",
      "\u001b[36mFile \u001b[39m\u001b[32m~/Projects/PhD/PlasmidRL/.venv/lib/python3.11/site-packages/ray/util/client/__init__.py:121\u001b[39m, in \u001b[36m_ClientContext._check_versions\u001b[39m\u001b[34m(self, conn_info, ignore_version)\u001b[39m\n\u001b[32m    118\u001b[39m \u001b[38;5;28;01mdef\u001b[39;00m\u001b[38;5;250m \u001b[39m\u001b[34m_check_versions\u001b[39m(\u001b[38;5;28mself\u001b[39m, conn_info: Dict[\u001b[38;5;28mstr\u001b[39m, Any], ignore_version: \u001b[38;5;28mbool\u001b[39m) -> \u001b[38;5;28;01mNone\u001b[39;00m:\n\u001b[32m    119\u001b[39m     \u001b[38;5;66;03m# conn_info has \"python_version\" and \"ray_version\" so it can be used to compare.\u001b[39;00m\n\u001b[32m    120\u001b[39m     ignore_version = ignore_version \u001b[38;5;129;01mor\u001b[39;00m (\u001b[33m\"\u001b[39m\u001b[33mRAY_IGNORE_VERSION_MISMATCH\u001b[39m\u001b[33m\"\u001b[39m \u001b[38;5;129;01min\u001b[39;00m os.environ)\n\u001b[32m--> \u001b[39m\u001b[32m121\u001b[39m     \u001b[43mcheck_version_info\u001b[49m\u001b[43m(\u001b[49m\n\u001b[32m    122\u001b[39m \u001b[43m        \u001b[49m\u001b[43mconn_info\u001b[49m\u001b[43m,\u001b[49m\n\u001b[32m    123\u001b[39m \u001b[43m        \u001b[49m\u001b[33;43m\"\u001b[39;49m\u001b[33;43mRay Client\u001b[39;49m\u001b[33;43m\"\u001b[39;49m\u001b[43m,\u001b[49m\n\u001b[32m    124\u001b[39m \u001b[43m        \u001b[49m\u001b[43mraise_on_mismatch\u001b[49m\u001b[43m=\u001b[49m\u001b[38;5;129;43;01mnot\u001b[39;49;00m\u001b[43m \u001b[49m\u001b[43mignore_version\u001b[49m\u001b[43m,\u001b[49m\n\u001b[32m    125\u001b[39m \u001b[43m        \u001b[49m\u001b[43mpython_version_match_level\u001b[49m\u001b[43m=\u001b[49m\u001b[33;43m\"\u001b[39;49m\u001b[33;43mminor\u001b[39;49m\u001b[33;43m\"\u001b[39;49m\u001b[43m,\u001b[49m\n\u001b[32m    126\u001b[39m \u001b[43m    \u001b[49m\u001b[43m)\u001b[49m\n",
      "\u001b[36mFile \u001b[39m\u001b[32m~/Projects/PhD/PlasmidRL/.venv/lib/python3.11/site-packages/ray/_private/utils.py:1286\u001b[39m, in \u001b[36mcheck_version_info\u001b[39m\u001b[34m(cluster_metadata, this_process_address, raise_on_mismatch, python_version_match_level)\u001b[39m\n\u001b[32m   1284\u001b[39m error_message = \u001b[33mf\u001b[39m\u001b[33m\"\u001b[39m\u001b[33mVersion mismatch: \u001b[39m\u001b[38;5;132;01m{\u001b[39;00mmismatch_msg\u001b[38;5;132;01m}\u001b[39;00m\u001b[33m\"\u001b[39m\n\u001b[32m   1285\u001b[39m \u001b[38;5;28;01mif\u001b[39;00m raise_on_mismatch:\n\u001b[32m-> \u001b[39m\u001b[32m1286\u001b[39m     \u001b[38;5;28;01mraise\u001b[39;00m \u001b[38;5;167;01mRuntimeError\u001b[39;00m(error_message)\n\u001b[32m   1287\u001b[39m \u001b[38;5;28;01melse\u001b[39;00m:\n\u001b[32m   1288\u001b[39m     logger.warning(error_message)\n",
      "\u001b[31mRuntimeError\u001b[39m: Version mismatch: The cluster was started with:\n    Ray: 2.49.2\n    Python: 3.9.18\nThis process on Ray Client was started with:\n    Ray: 2.49.2\n    Python: 3.11.9\n"
     ]
    }
   ],
   "source": [
    "ray.init(\"ray://localhost:10001\")\n",
    "\n",
    "@ray.remote\n",
    "def double(x): \n",
    "    return x * 2\n"
   ]
  },
  {
   "cell_type": "code",
   "execution_count": null,
   "id": "69fe2208",
   "metadata": {},
   "outputs": [],
   "source": []
  }
 ],
 "metadata": {
  "kernelspec": {
   "display_name": ".venv",
   "language": "python",
   "name": "python3"
  },
  "language_info": {
   "codemirror_mode": {
    "name": "ipython",
    "version": 3
   },
   "file_extension": ".py",
   "mimetype": "text/x-python",
   "name": "python",
   "nbconvert_exporter": "python",
   "pygments_lexer": "ipython3",
   "version": "3.11.9"
  }
 },
 "nbformat": 4,
 "nbformat_minor": 5
}
