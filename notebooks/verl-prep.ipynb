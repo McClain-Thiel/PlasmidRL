{
 "cells": [
  {
   "cell_type": "code",
   "execution_count": 1,
   "id": "529c01ff",
   "metadata": {},
   "outputs": [],
   "source": [
    "import pandas as pd"
   ]
  },
  {
   "cell_type": "code",
   "execution_count": null,
   "id": "57d6ea45",
   "metadata": {},
   "outputs": [
    {
     "name": "stdout",
     "output_type": "stream",
     "text": [
      "TTTACGGCTAGCTCAGTCCTAGGTATAGTGCTAGCTACTAGAGAAAGAGGAGAAATACTAAATGATGCGTAAAGGAGAAGAACTTTTCACTGGAGTTGTCCCAATTCTTGTTGAATTAGATGGTGATGTTAATGGGCACAAATTTTCTGTCAGTGGAGAGGGTGAAGGTGATGCAACATACGGAAAACTTACCCTTAAATTTATTTGCACTACTGGAAAACTACCTGTTCCATGGCCAACACTTGTCACTACTTTCGGTTATGGTGTTCAATGCTTTGCGAGATACCCAGATCATATGAAACAGCATGACTTTTTCAAGAGTGCCATGCCCGAAGGTTATGTACAGGAAAGAACTATATTTTTCAAAGATGACGGGAACTACAAGACACGTGCTGAAGTCAAGTTTGAAGGTGATACCCTTGTTAATAGAATCGAGTTAAAAGGTATTGATTTTAAAGAAGATGGAAACATTCTTGGACACAAATTGGAATACAACTATAACTCACACAATGTATACATCATGGCAGACAAACAAAAGAATGGAATCAAAGTTAACTTCAAAATTAGACACAACATTGAAGATGGAAGCGTTCAACTAGCAGACCATTATCAACAAAATACTCCAATTGGCGATGGCCCTGTCCTTTTACCAGACAACCATTACCTGTCCACACAATCTGCCCTTTCGAAAGATCCCAACGAAAAGAGAGATCACATGGTCCTTCTTGAGTTTGTAACAGCTGCTGGGATTACACATGGCATGGATGAACTATACAAATAATAAAGGTCCAGGCATCAAATAAAACGAAAGGCTCAGTCGAAAGACTGGGCCTTTCGTTTTATCTGTTGTTTGTCGGTGAACGCTCTCTACTAGAGTCACACTGGCTCACCTTCGGGTGGGCCTTTCTGCGTTTATA\n"
     ]
    }
   ],
   "source": [
    "with open(\"../data/GFP_cassette.fasta\", \"r\") as f:\n",
    "    gfp_cassette = f.read()\n",
    "\n",
    "cassette_seq = gfp_cassette.split(\"\\n\")[1:]\n",
    "cassette_seq = \"\".join(cassette_seq).upper()\n"
   ]
  },
  {
   "cell_type": "code",
   "execution_count": null,
   "id": "7ecb7cbc",
   "metadata": {},
   "outputs": [],
   "source": [
    "train_paq = [\n",
    "    {\n",
    "        \"data_source\": \"mcclain/plasmid-seq\",\n",
    "        \"prompt\": cassette_seq,\n",
    "        \"ability\": \"autocomplete\",\n",
    "        \"reward_model\": {\"style\": \"custom\", \"ground_truth\": \"\"},\n",
    "        \"extra_info\": {\"spilt\": \"train\", \"index\": 0}\n",
    "    },\n",
    "    {\n",
    "        \"data_source\": \"mcclain/plasmid-seq\",\n",
    "        \"prompt\": \"GAA\",\n",
    "        \"ability\": \"autocomplete\",\n",
    "        \"reward_model\": {\"style\": \"custom\", \"ground_truth\": \"\"},\n",
    "        \"extra_info\": {\"spilt\": \"train\", \"index\": 1}\n",
    "    },\n",
    "    {\n",
    "        \"data_source\": \"mcclain/plasmid-seq\",\n",
    "        \"prompt\": \"ATG\",\n",
    "        \"ability\": \"autocomplete\",\n",
    "        \"reward_model\": {\"style\": \"custom\", \"ground_truth\": \"\"},\n",
    "        \"extra_info\": {\"spilt\": \"train\", \"index\": 2}\n",
    "    },\n",
    "    {\n",
    "        \"data_source\": \"mcclain/plasmid-seq\",\n",
    "        \"prompt\": \"CTGCAG\",\n",
    "        \"ability\": \"autocomplete\",\n",
    "        \"reward_model\": {\"style\": \"custom\", \"ground_truth\": \"\"},\n",
    "        \"extra_info\": {\"spilt\": \"train\", \"index\": 3}\n",
    "    },\n",
    "    {\n",
    "        \"data_source\": \"mcclain/plasmid-seq\",\n",
    "        \"prompt\": \"AAGCTT\",\n",
    "        \"ability\": \"autocomplete\",\n",
    "        \"reward_model\": {\"style\": \"custom\", \"ground_truth\": \"\"},\n",
    "        \"extra_info\": {\"spilt\": \"train\", \"index\": 4}\n",
    "    }\n",
    "\n",
    "]\n",
    "\n",
    "val_paq = [\n",
    "    {\n",
    "        \"data_source\": \"mcclain/plasmid-seq\",\n",
    "        \"prompt\": cassette_seq,\n",
    "        \"ability\": \"autocomplete\",\n",
    "        \"reward_model\": {\"style\": \"custom\", \"ground_truth\": \"\"},\n",
    "        \"extra_info\": {\"spilt\": \"val\", \"index\": 0}\n",
    "    },\n",
    "    {\n",
    "        \"data_source\": \"mcclain/plasmid-seq\",\n",
    "        \"prompt\": \"GAATTC\",\n",
    "        \"ability\": \"autocomplete\",\n",
    "        \"reward_model\": {\"style\": \"custom\", \"ground_truth\": \"\"},\n",
    "        \"extra_info\": {\"spilt\": \"val\", \"index\": 1}\n",
    "    },\n",
    "    {\n",
    "        \"data_source\": \"mcclain/plasmid-seq\",\n",
    "        \"prompt\": \"ATG\",\n",
    "        \"ability\": \"autocomplete\",\n",
    "        \"reward_model\": {\"style\": \"custom\", \"ground_truth\": \"\"},\n",
    "        \"extra_info\": {\"spilt\": \"val\", \"index\": 2}\n",
    "    }"
   ]
  }
 ],
 "metadata": {
  "kernelspec": {
   "display_name": ".venv",
   "language": "python",
   "name": "python3"
  },
  "language_info": {
   "codemirror_mode": {
    "name": "ipython",
    "version": 3
   },
   "file_extension": ".py",
   "mimetype": "text/x-python",
   "name": "python",
   "nbconvert_exporter": "python",
   "pygments_lexer": "ipython3",
   "version": "3.11.9"
  }
 },
 "nbformat": 4,
 "nbformat_minor": 5
}
